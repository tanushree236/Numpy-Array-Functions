{
  "nbformat": 4,
  "nbformat_minor": 0,
  "metadata": {
    "colab": {
      "provenance": []
    },
    "kernelspec": {
      "name": "python3",
      "display_name": "Python 3"
    },
    "language_info": {
      "name": "python"
    }
  },
  "cells": [
    {
      "cell_type": "markdown",
      "source": [
        "# Numpy"
      ],
      "metadata": {
        "id": "EcevIdqbnLxJ"
      }
    },
    {
      "cell_type": "markdown",
      "source": [
        "## What is NumPy?\n",
        "NumPy stands for numeric python which is a python package for the computation and processing of the multidimensional and single dimensional array elements."
      ],
      "metadata": {
        "id": "AJfdN5f15fST"
      }
    },
    {
      "cell_type": "markdown",
      "source": [
        "## NumPy array\n",
        "A numpy array is a grid of values, all of the same type, and is indexed by a tuple of nonnegative integers.\n",
        "The numpy.array is not the same as the standard Python library class array."
      ],
      "metadata": {
        "id": "mUqhWzYF50iY"
      }
    },
    {
      "cell_type": "markdown",
      "source": [
        "### Syntax for numpy array\n",
        "\n",
        "variableName=np.array([data 1,data 2,data 3,.....,data n])"
      ],
      "metadata": {
        "id": "amk_x-sQ57Nb"
      }
    },
    {
      "cell_type": "code",
      "source": [
        "import numpy as np"
      ],
      "metadata": {
        "id": "tobO44xj7JDG"
      },
      "execution_count": null,
      "outputs": []
    },
    {
      "cell_type": "code",
      "source": [
        "arr1=np.array([1,2,3,4,5])"
      ],
      "metadata": {
        "id": "L3_20OGj5_GV"
      },
      "execution_count": null,
      "outputs": []
    },
    {
      "cell_type": "code",
      "source": [
        "arr1"
      ],
      "metadata": {
        "colab": {
          "base_uri": "https://localhost:8080/"
        },
        "id": "kgKihYYS7BLL",
        "outputId": "c16905dc-1e0d-417d-95f8-ecee3b77926b"
      },
      "execution_count": null,
      "outputs": [
        {
          "output_type": "execute_result",
          "data": {
            "text/plain": [
              "array([1, 2, 3, 4, 5])"
            ]
          },
          "metadata": {},
          "execution_count": 3
        }
      ]
    },
    {
      "cell_type": "code",
      "source": [
        "type(arr1)"
      ],
      "metadata": {
        "colab": {
          "base_uri": "https://localhost:8080/"
        },
        "id": "3RRyvXcL7CSU",
        "outputId": "fc7cd73b-6c57-4ec3-a6e0-d2a6c0699f14"
      },
      "execution_count": null,
      "outputs": [
        {
          "output_type": "execute_result",
          "data": {
            "text/plain": [
              "numpy.ndarray"
            ]
          },
          "metadata": {},
          "execution_count": 4
        }
      ]
    },
    {
      "cell_type": "markdown",
      "source": [
        "Numpy arrays can have any number of dimensions and different lengths along each dimension. We can inspect the length along each dimension using the `.shape` property of an array.\n",
        "\n"
      ],
      "metadata": {
        "id": "IkJxnilK-G4U"
      }
    },
    {
      "cell_type": "markdown",
      "source": [
        "1 Dimensional Array"
      ],
      "metadata": {
        "id": "gZYQLWjw_EWd"
      }
    },
    {
      "cell_type": "code",
      "source": [
        "arr1"
      ],
      "metadata": {
        "colab": {
          "base_uri": "https://localhost:8080/"
        },
        "id": "5kcBtxRY_Jjd",
        "outputId": "123c6cd1-c7c0-4371-cfad-f048ca9b9405"
      },
      "execution_count": null,
      "outputs": [
        {
          "output_type": "execute_result",
          "data": {
            "text/plain": [
              "array([1, 2, 3, 4, 5])"
            ]
          },
          "metadata": {},
          "execution_count": 5
        }
      ]
    },
    {
      "cell_type": "code",
      "source": [
        "arr1.shape"
      ],
      "metadata": {
        "colab": {
          "base_uri": "https://localhost:8080/"
        },
        "id": "yso6k8C2-Khk",
        "outputId": "e80561dd-7668-4864-d86c-7c3b0eb1cca5"
      },
      "execution_count": null,
      "outputs": [
        {
          "output_type": "execute_result",
          "data": {
            "text/plain": [
              "(5,)"
            ]
          },
          "metadata": {},
          "execution_count": 6
        }
      ]
    },
    {
      "cell_type": "markdown",
      "source": [
        "2 Dimensional Array"
      ],
      "metadata": {
        "id": "7eoguTLw_L0C"
      }
    },
    {
      "cell_type": "code",
      "source": [
        "arr2=np.array([[10,20,30],\n",
        "               [40,50,60]])"
      ],
      "metadata": {
        "id": "qoeYEmZJ-1Gy"
      },
      "execution_count": null,
      "outputs": []
    },
    {
      "cell_type": "code",
      "source": [
        "arr2"
      ],
      "metadata": {
        "colab": {
          "base_uri": "https://localhost:8080/"
        },
        "id": "_aut0Odf-98V",
        "outputId": "15c0f849-7365-42b1-c23e-8b51dea4edd5"
      },
      "execution_count": null,
      "outputs": [
        {
          "output_type": "execute_result",
          "data": {
            "text/plain": [
              "array([[10, 20, 30],\n",
              "       [40, 50, 60]])"
            ]
          },
          "metadata": {},
          "execution_count": 8
        }
      ]
    },
    {
      "cell_type": "code",
      "source": [
        "arr2.shape"
      ],
      "metadata": {
        "colab": {
          "base_uri": "https://localhost:8080/"
        },
        "id": "i3AGUUoH-__9",
        "outputId": "18b0604d-70bb-4d1e-d149-6b16908f4793"
      },
      "execution_count": null,
      "outputs": [
        {
          "output_type": "execute_result",
          "data": {
            "text/plain": [
              "(2, 3)"
            ]
          },
          "metadata": {},
          "execution_count": 9
        }
      ]
    },
    {
      "cell_type": "markdown",
      "source": [
        "Multidimensional Array"
      ],
      "metadata": {
        "id": "sYqG9W8H_PBV"
      }
    },
    {
      "cell_type": "code",
      "source": [
        "arr3=np.array([[[1,2,3],\n",
        "               [4,5,6]],\n",
        "               [[7,8,9],\n",
        "                [10,11,12]]])"
      ],
      "metadata": {
        "id": "qK3TCZQ1-Mn5"
      },
      "execution_count": null,
      "outputs": []
    },
    {
      "cell_type": "code",
      "source": [
        "arr3"
      ],
      "metadata": {
        "colab": {
          "base_uri": "https://localhost:8080/"
        },
        "id": "9mnljbdi-moU",
        "outputId": "bc4ca46c-798b-42dc-93f1-a414079f811e"
      },
      "execution_count": null,
      "outputs": [
        {
          "output_type": "execute_result",
          "data": {
            "text/plain": [
              "array([[[ 1,  2,  3],\n",
              "        [ 4,  5,  6]],\n",
              "\n",
              "       [[ 7,  8,  9],\n",
              "        [10, 11, 12]]])"
            ]
          },
          "metadata": {},
          "execution_count": 11
        }
      ]
    },
    {
      "cell_type": "code",
      "source": [
        "arr3.shape"
      ],
      "metadata": {
        "colab": {
          "base_uri": "https://localhost:8080/"
        },
        "id": "5v9LCu9_-pVY",
        "outputId": "15841550-69d8-4dc3-a028-d8f2d0459228"
      },
      "execution_count": null,
      "outputs": [
        {
          "output_type": "execute_result",
          "data": {
            "text/plain": [
              "(2, 2, 3)"
            ]
          },
          "metadata": {},
          "execution_count": 12
        }
      ]
    },
    {
      "cell_type": "markdown",
      "source": [
        "# Numpy array Functions"
      ],
      "metadata": {
        "id": "GxL_9FuUAveX"
      }
    },
    {
      "cell_type": "markdown",
      "source": [
        "### 1.numpy.concatenate()"
      ],
      "metadata": {
        "id": "p8ud4WS4BCer"
      }
    },
    {
      "cell_type": "markdown",
      "source": [
        "The concatenate() function is a function from the NumPy package. This function combines two or more numpy arrays together along a specific axis.\n",
        " "
      ],
      "metadata": {
        "id": "MrF89NCEBNEM"
      }
    },
    {
      "cell_type": "markdown",
      "source": [
        "Syntax : "
      ],
      "metadata": {
        "id": "2fhsSIIJBmSZ"
      }
    },
    {
      "cell_type": "markdown",
      "source": [
        "numpy.concatenate((a1,a2,a3,.....),axis)"
      ],
      "metadata": {
        "id": "VeeXITLvBpnt"
      }
    },
    {
      "cell_type": "markdown",
      "source": [
        "Example 1:\n"
      ],
      "metadata": {
        "id": "U-dQTD70ouhq"
      }
    },
    {
      "cell_type": "code",
      "source": [
        "a1=np.array([12,13,14])"
      ],
      "metadata": {
        "id": "wjl6B8lMA0Oa"
      },
      "execution_count": null,
      "outputs": []
    },
    {
      "cell_type": "code",
      "source": [
        "a2=np.array([15,16,17])"
      ],
      "metadata": {
        "id": "WRriuKrYByNK"
      },
      "execution_count": null,
      "outputs": []
    },
    {
      "cell_type": "code",
      "source": [
        "np.concatenate((a1,a2),axis=0)"
      ],
      "metadata": {
        "colab": {
          "base_uri": "https://localhost:8080/"
        },
        "id": "feDAaohHB4bi",
        "outputId": "28ad8cc9-7cf2-4418-c660-07e048b8d1cd"
      },
      "execution_count": null,
      "outputs": [
        {
          "output_type": "execute_result",
          "data": {
            "text/plain": [
              "array([12, 13, 14, 15, 16, 17])"
            ]
          },
          "metadata": {},
          "execution_count": 15
        }
      ]
    },
    {
      "cell_type": "markdown",
      "source": [
        "Example 2:"
      ],
      "metadata": {
        "id": "Rk_2uWDpozab"
      }
    },
    {
      "cell_type": "code",
      "source": [
        "a3=np.array([[1,2,3],\n",
        "             [4,5,6]])"
      ],
      "metadata": {
        "id": "MR-z4oa4CCzL"
      },
      "execution_count": null,
      "outputs": []
    },
    {
      "cell_type": "code",
      "source": [
        "a4=np.array([[7,8,9],\n",
        "             [10,11,12]])"
      ],
      "metadata": {
        "id": "jnxonlgoCst3"
      },
      "execution_count": null,
      "outputs": []
    },
    {
      "cell_type": "code",
      "source": [
        "np.concatenate((a3,a4),axis=1)"
      ],
      "metadata": {
        "colab": {
          "base_uri": "https://localhost:8080/"
        },
        "id": "aycbZaMbCxdR",
        "outputId": "bc27bd62-1019-41fe-ecbf-3a1209847a21"
      },
      "execution_count": null,
      "outputs": [
        {
          "output_type": "execute_result",
          "data": {
            "text/plain": [
              "array([[ 1,  2,  3,  7,  8,  9],\n",
              "       [ 4,  5,  6, 10, 11, 12]])"
            ]
          },
          "metadata": {},
          "execution_count": 18
        }
      ]
    },
    {
      "cell_type": "markdown",
      "source": [
        "Example 3:"
      ],
      "metadata": {
        "id": "T7jeY-jCo278"
      }
    },
    {
      "cell_type": "code",
      "source": [
        "a3"
      ],
      "metadata": {
        "colab": {
          "base_uri": "https://localhost:8080/"
        },
        "id": "uTLbSynOC3LY",
        "outputId": "241dfa84-ed2d-481b-f462-f23b6f99c6b5"
      },
      "execution_count": null,
      "outputs": [
        {
          "output_type": "execute_result",
          "data": {
            "text/plain": [
              "array([[1, 2, 3],\n",
              "       [4, 5, 6]])"
            ]
          },
          "metadata": {},
          "execution_count": 19
        }
      ]
    },
    {
      "cell_type": "code",
      "source": [
        "a1"
      ],
      "metadata": {
        "colab": {
          "base_uri": "https://localhost:8080/"
        },
        "id": "9tKGLswKDCdZ",
        "outputId": "e213ee36-2816-48b3-ddf0-09d964055909"
      },
      "execution_count": null,
      "outputs": [
        {
          "output_type": "execute_result",
          "data": {
            "text/plain": [
              "array([12, 13, 14])"
            ]
          },
          "metadata": {},
          "execution_count": 20
        }
      ]
    },
    {
      "cell_type": "code",
      "source": [
        "np.concatenate((a1,a3),axis=0)"
      ],
      "metadata": {
        "colab": {
          "base_uri": "https://localhost:8080/",
          "height": 200
        },
        "id": "CjcowWUXDFY2",
        "outputId": "66657d13-6b5b-49c5-c59c-8d5113c1f361"
      },
      "execution_count": null,
      "outputs": [
        {
          "output_type": "error",
          "ename": "ValueError",
          "evalue": "ignored",
          "traceback": [
            "\u001b[0;31m---------------------------------------------------------------------------\u001b[0m",
            "\u001b[0;31mValueError\u001b[0m                                Traceback (most recent call last)",
            "\u001b[0;32m<ipython-input-21-8d0f4cdf21ad>\u001b[0m in \u001b[0;36m<module>\u001b[0;34m\u001b[0m\n\u001b[0;32m----> 1\u001b[0;31m \u001b[0mnp\u001b[0m\u001b[0;34m.\u001b[0m\u001b[0mconcatenate\u001b[0m\u001b[0;34m(\u001b[0m\u001b[0;34m(\u001b[0m\u001b[0ma1\u001b[0m\u001b[0;34m,\u001b[0m\u001b[0ma3\u001b[0m\u001b[0;34m)\u001b[0m\u001b[0;34m,\u001b[0m\u001b[0maxis\u001b[0m\u001b[0;34m=\u001b[0m\u001b[0;36m0\u001b[0m\u001b[0;34m)\u001b[0m\u001b[0;34m\u001b[0m\u001b[0;34m\u001b[0m\u001b[0m\n\u001b[0m",
            "\u001b[0;32m<__array_function__ internals>\u001b[0m in \u001b[0;36mconcatenate\u001b[0;34m(*args, **kwargs)\u001b[0m\n",
            "\u001b[0;31mValueError\u001b[0m: all the input arrays must have same number of dimensions, but the array at index 0 has 1 dimension(s) and the array at index 1 has 2 dimension(s)"
          ]
        }
      ]
    },
    {
      "cell_type": "markdown",
      "source": [
        "The above code does not execute as the dimension of array-a3 and array-a1 are different, a3 is 2 dimensional array while a1 is 1 dimensional array. So, arrays of different dimensions cannot be concatenated. "
      ],
      "metadata": {
        "id": "bdirqP_1EQf3"
      }
    },
    {
      "cell_type": "markdown",
      "source": [
        "### 2.numpy.append()"
      ],
      "metadata": {
        "id": "0ilYph3eH2So"
      }
    },
    {
      "cell_type": "markdown",
      "source": [
        "The numpy.append() function is available in NumPy package. Append means adding elements. The numpy.append() function is used to add or append new values to an existing numpy array. The new values gets added at the end of the array."
      ],
      "metadata": {
        "id": "d2TmSdXcIOBM"
      }
    },
    {
      "cell_type": "markdown",
      "source": [
        "Example 1:"
      ],
      "metadata": {
        "id": "g6cw4TIfo6PH"
      }
    },
    {
      "cell_type": "code",
      "source": [
        "a=np.array([11,22,33])"
      ],
      "metadata": {
        "id": "1iSVMumbDJoY"
      },
      "execution_count": null,
      "outputs": []
    },
    {
      "cell_type": "code",
      "source": [
        "b=np.array([44,55,66])"
      ],
      "metadata": {
        "id": "iWMzx8bMJF31"
      },
      "execution_count": null,
      "outputs": []
    },
    {
      "cell_type": "code",
      "source": [
        "c=np.append(a,b)\n",
        "c"
      ],
      "metadata": {
        "colab": {
          "base_uri": "https://localhost:8080/"
        },
        "id": "pxAPAazlJJST",
        "outputId": "31a1e88a-5524-4700-c52e-1976889e2ae9"
      },
      "execution_count": null,
      "outputs": [
        {
          "output_type": "execute_result",
          "data": {
            "text/plain": [
              "array([11, 22, 33, 44, 55, 66])"
            ]
          },
          "metadata": {},
          "execution_count": 24
        }
      ]
    },
    {
      "cell_type": "markdown",
      "source": [
        "Example 2:"
      ],
      "metadata": {
        "id": "sAe4zKMno-sm"
      }
    },
    {
      "cell_type": "code",
      "source": [
        "a3"
      ],
      "metadata": {
        "colab": {
          "base_uri": "https://localhost:8080/"
        },
        "id": "cWtFCGrJJNov",
        "outputId": "cbf910e0-dee5-4895-be0b-184cd147df3a"
      },
      "execution_count": null,
      "outputs": [
        {
          "output_type": "execute_result",
          "data": {
            "text/plain": [
              "array([[1, 2, 3],\n",
              "       [4, 5, 6]])"
            ]
          },
          "metadata": {},
          "execution_count": 25
        }
      ]
    },
    {
      "cell_type": "code",
      "source": [
        "a4"
      ],
      "metadata": {
        "colab": {
          "base_uri": "https://localhost:8080/"
        },
        "id": "--3NmYkDODi5",
        "outputId": "83514ec4-b1b3-4713-8415-e01ba519d293"
      },
      "execution_count": null,
      "outputs": [
        {
          "output_type": "execute_result",
          "data": {
            "text/plain": [
              "array([[ 7,  8,  9],\n",
              "       [10, 11, 12]])"
            ]
          },
          "metadata": {},
          "execution_count": 26
        }
      ]
    },
    {
      "cell_type": "code",
      "source": [
        "np.append(a3,a4)"
      ],
      "metadata": {
        "colab": {
          "base_uri": "https://localhost:8080/"
        },
        "id": "FWJfxz4HOEL3",
        "outputId": "3a5ff07e-3a64-40be-dbcf-c4780db579b5"
      },
      "execution_count": null,
      "outputs": [
        {
          "output_type": "execute_result",
          "data": {
            "text/plain": [
              "array([ 1,  2,  3,  4,  5,  6,  7,  8,  9, 10, 11, 12])"
            ]
          },
          "metadata": {},
          "execution_count": 27
        }
      ]
    },
    {
      "cell_type": "code",
      "source": [
        "np.append(a3,a4,axis=0)"
      ],
      "metadata": {
        "colab": {
          "base_uri": "https://localhost:8080/"
        },
        "id": "A6ICalUzOIVT",
        "outputId": "59ba2611-931f-43cb-de27-f78f77a4bf8d"
      },
      "execution_count": null,
      "outputs": [
        {
          "output_type": "execute_result",
          "data": {
            "text/plain": [
              "array([[ 1,  2,  3],\n",
              "       [ 4,  5,  6],\n",
              "       [ 7,  8,  9],\n",
              "       [10, 11, 12]])"
            ]
          },
          "metadata": {},
          "execution_count": 28
        }
      ]
    },
    {
      "cell_type": "code",
      "source": [
        "\n",
        "np.append(a3,a4,axis=1)"
      ],
      "metadata": {
        "colab": {
          "base_uri": "https://localhost:8080/"
        },
        "id": "4Io2dNVHOOpN",
        "outputId": "baca7b6a-d537-4b97-fd03-3611442dbeb6"
      },
      "execution_count": null,
      "outputs": [
        {
          "output_type": "execute_result",
          "data": {
            "text/plain": [
              "array([[ 1,  2,  3,  7,  8,  9],\n",
              "       [ 4,  5,  6, 10, 11, 12]])"
            ]
          },
          "metadata": {},
          "execution_count": 29
        }
      ]
    },
    {
      "cell_type": "code",
      "source": [
        "\n",
        "np.append(a,a3)"
      ],
      "metadata": {
        "colab": {
          "base_uri": "https://localhost:8080/"
        },
        "id": "qaRzfEAPOThl",
        "outputId": "912a6a42-3e45-4378-e823-69fcff064bb1"
      },
      "execution_count": null,
      "outputs": [
        {
          "output_type": "execute_result",
          "data": {
            "text/plain": [
              "array([11, 22, 33,  1,  2,  3,  4,  5,  6])"
            ]
          },
          "metadata": {},
          "execution_count": 30
        }
      ]
    },
    {
      "cell_type": "code",
      "source": [
        "np.append(a,a3,axis=0)"
      ],
      "metadata": {
        "colab": {
          "base_uri": "https://localhost:8080/",
          "height": 356
        },
        "id": "-txfyDYYOhYo",
        "outputId": "1b4b7e8c-7ed6-49a6-de15-4a17349add92"
      },
      "execution_count": null,
      "outputs": [
        {
          "output_type": "error",
          "ename": "ValueError",
          "evalue": "ignored",
          "traceback": [
            "\u001b[0;31m---------------------------------------------------------------------------\u001b[0m",
            "\u001b[0;31mValueError\u001b[0m                                Traceback (most recent call last)",
            "\u001b[0;32m<ipython-input-31-563980a3a182>\u001b[0m in \u001b[0;36m<module>\u001b[0;34m\u001b[0m\n\u001b[0;32m----> 1\u001b[0;31m \u001b[0mnp\u001b[0m\u001b[0;34m.\u001b[0m\u001b[0mappend\u001b[0m\u001b[0;34m(\u001b[0m\u001b[0ma\u001b[0m\u001b[0;34m,\u001b[0m\u001b[0ma3\u001b[0m\u001b[0;34m,\u001b[0m\u001b[0maxis\u001b[0m\u001b[0;34m=\u001b[0m\u001b[0;36m0\u001b[0m\u001b[0;34m)\u001b[0m\u001b[0;34m\u001b[0m\u001b[0;34m\u001b[0m\u001b[0m\n\u001b[0m",
            "\u001b[0;32m<__array_function__ internals>\u001b[0m in \u001b[0;36mappend\u001b[0;34m(*args, **kwargs)\u001b[0m\n",
            "\u001b[0;32m/usr/local/lib/python3.8/dist-packages/numpy/lib/function_base.py\u001b[0m in \u001b[0;36mappend\u001b[0;34m(arr, values, axis)\u001b[0m\n\u001b[1;32m   4815\u001b[0m         \u001b[0mvalues\u001b[0m \u001b[0;34m=\u001b[0m \u001b[0mravel\u001b[0m\u001b[0;34m(\u001b[0m\u001b[0mvalues\u001b[0m\u001b[0;34m)\u001b[0m\u001b[0;34m\u001b[0m\u001b[0;34m\u001b[0m\u001b[0m\n\u001b[1;32m   4816\u001b[0m         \u001b[0maxis\u001b[0m \u001b[0;34m=\u001b[0m \u001b[0marr\u001b[0m\u001b[0;34m.\u001b[0m\u001b[0mndim\u001b[0m\u001b[0;34m-\u001b[0m\u001b[0;36m1\u001b[0m\u001b[0;34m\u001b[0m\u001b[0;34m\u001b[0m\u001b[0m\n\u001b[0;32m-> 4817\u001b[0;31m     \u001b[0;32mreturn\u001b[0m \u001b[0mconcatenate\u001b[0m\u001b[0;34m(\u001b[0m\u001b[0;34m(\u001b[0m\u001b[0marr\u001b[0m\u001b[0;34m,\u001b[0m \u001b[0mvalues\u001b[0m\u001b[0;34m)\u001b[0m\u001b[0;34m,\u001b[0m \u001b[0maxis\u001b[0m\u001b[0;34m=\u001b[0m\u001b[0maxis\u001b[0m\u001b[0;34m)\u001b[0m\u001b[0;34m\u001b[0m\u001b[0;34m\u001b[0m\u001b[0m\n\u001b[0m\u001b[1;32m   4818\u001b[0m \u001b[0;34m\u001b[0m\u001b[0m\n\u001b[1;32m   4819\u001b[0m \u001b[0;34m\u001b[0m\u001b[0m\n",
            "\u001b[0;32m<__array_function__ internals>\u001b[0m in \u001b[0;36mconcatenate\u001b[0;34m(*args, **kwargs)\u001b[0m\n",
            "\u001b[0;31mValueError\u001b[0m: all the input arrays must have same number of dimensions, but the array at index 0 has 1 dimension(s) and the array at index 1 has 2 dimension(s)"
          ]
        }
      ]
    },
    {
      "cell_type": "markdown",
      "source": [
        "The above code does not execute as the dimension of array-a3 and array-a1 are different, a3 is 2 dimensional array while a1 is 1 dimensional array. So, arrays of different dimensions cannot be appened or added in the axis that is equal to 0. "
      ],
      "metadata": {
        "id": "9TSkXKW5PQpq"
      }
    },
    {
      "cell_type": "markdown",
      "source": [
        "#### 3.numpy.transpose()"
      ],
      "metadata": {
        "id": "ZqpAZBoyQAIq"
      }
    },
    {
      "cell_type": "markdown",
      "source": [
        "The numpy.transpose() function is one of the most important functions in matrix multiplication. This function reserves the dimension of the given array and returns the modified array.\n",
        "The numpy.transpose() function changes the row elements into column elements and the column elements into row elements. The output of this function is a modified array of the original one."
      ],
      "metadata": {
        "id": "GXcMkICVQFVh"
      }
    },
    {
      "cell_type": "markdown",
      "source": [
        "Syntax :"
      ],
      "metadata": {
        "id": "TsXcbuxbQSGg"
      }
    },
    {
      "cell_type": "markdown",
      "source": [
        "numpy.transpose(arr,axis=None)"
      ],
      "metadata": {
        "id": "eP4gHDRiQWDa"
      }
    },
    {
      "cell_type": "markdown",
      "source": [
        "Example 1:"
      ],
      "metadata": {
        "id": "9fIM9_G8pGMd"
      }
    },
    {
      "cell_type": "code",
      "source": [
        "a3"
      ],
      "metadata": {
        "colab": {
          "base_uri": "https://localhost:8080/"
        },
        "id": "pRUDhTH7OmsI",
        "outputId": "e5a6a06d-4241-40d9-9d61-8771894ab0b7"
      },
      "execution_count": null,
      "outputs": [
        {
          "output_type": "execute_result",
          "data": {
            "text/plain": [
              "array([[1, 2, 3],\n",
              "       [4, 5, 6]])"
            ]
          },
          "metadata": {},
          "execution_count": 32
        }
      ]
    },
    {
      "cell_type": "code",
      "source": [
        "np.transpose(a3)"
      ],
      "metadata": {
        "colab": {
          "base_uri": "https://localhost:8080/"
        },
        "id": "KHO5Dp4bQx-H",
        "outputId": "84af54f1-d840-435b-963f-c612bf7a65c0"
      },
      "execution_count": null,
      "outputs": [
        {
          "output_type": "execute_result",
          "data": {
            "text/plain": [
              "array([[1, 4],\n",
              "       [2, 5],\n",
              "       [3, 6]])"
            ]
          },
          "metadata": {},
          "execution_count": 33
        }
      ]
    },
    {
      "cell_type": "markdown",
      "source": [
        "Example 2:"
      ],
      "metadata": {
        "id": "mW11msoZpLcH"
      }
    },
    {
      "cell_type": "code",
      "source": [
        "a5=np.array([[[21,31,41],\n",
        "      [51,61,71]],\n",
        "\n",
        "      [[71,81,91],\n",
        "      [11,12,13]],\n",
        "     \n",
        "      [[1,2,3],\n",
        "     [4,5,6]]])"
      ],
      "metadata": {
        "id": "CfYVljqpQ3ga"
      },
      "execution_count": null,
      "outputs": []
    },
    {
      "cell_type": "code",
      "source": [
        "a5"
      ],
      "metadata": {
        "colab": {
          "base_uri": "https://localhost:8080/"
        },
        "id": "1tY6F15kRbjJ",
        "outputId": "66bd3d4c-94fb-4746-99c0-fde58b3ea61a"
      },
      "execution_count": null,
      "outputs": [
        {
          "output_type": "execute_result",
          "data": {
            "text/plain": [
              "array([[[21, 31, 41],\n",
              "        [51, 61, 71]],\n",
              "\n",
              "       [[71, 81, 91],\n",
              "        [11, 12, 13]],\n",
              "\n",
              "       [[ 1,  2,  3],\n",
              "        [ 4,  5,  6]]])"
            ]
          },
          "metadata": {},
          "execution_count": 35
        }
      ]
    },
    {
      "cell_type": "code",
      "source": [
        "a5.shape"
      ],
      "metadata": {
        "colab": {
          "base_uri": "https://localhost:8080/"
        },
        "id": "HKECYkBrRdwG",
        "outputId": "7d3ed2f4-44aa-434f-8c90-aeb16c000350"
      },
      "execution_count": null,
      "outputs": [
        {
          "output_type": "execute_result",
          "data": {
            "text/plain": [
              "(3, 2, 3)"
            ]
          },
          "metadata": {},
          "execution_count": 36
        }
      ]
    },
    {
      "cell_type": "code",
      "source": [
        "np.transpose(a5)"
      ],
      "metadata": {
        "colab": {
          "base_uri": "https://localhost:8080/"
        },
        "id": "DK0jqccBSBlc",
        "outputId": "51c2404e-7acc-4bcf-bf2c-32261ccc67d9"
      },
      "execution_count": null,
      "outputs": [
        {
          "output_type": "execute_result",
          "data": {
            "text/plain": [
              "array([[[21, 71,  1],\n",
              "        [51, 11,  4]],\n",
              "\n",
              "       [[31, 81,  2],\n",
              "        [61, 12,  5]],\n",
              "\n",
              "       [[41, 91,  3],\n",
              "        [71, 13,  6]]])"
            ]
          },
          "metadata": {},
          "execution_count": 37
        }
      ]
    },
    {
      "cell_type": "markdown",
      "source": [
        "### 4.numpy.sum()"
      ],
      "metadata": {
        "id": "tRs7D9Lr_OvM"
      }
    },
    {
      "cell_type": "markdown",
      "source": [
        "The numpy.sum() function is available in the NumPy package of Python. This function is used to compute the sum of all elements, the sum of each row, and the sum of each column of a given array. It returns the sum of all in the elements in the numpy array. This avoids the using of loop which we do in python but with the help of numpy we can easily write it without using loop"
      ],
      "metadata": {
        "id": "jRgf_iLC_VIt"
      }
    },
    {
      "cell_type": "markdown",
      "source": [
        "Syntax :"
      ],
      "metadata": {
        "id": "ZgoDlbASAXwU"
      }
    },
    {
      "cell_type": "markdown",
      "source": [
        "variableName=np.sum(arrayName)"
      ],
      "metadata": {
        "id": "-lsFWeSkAcuD"
      }
    },
    {
      "cell_type": "markdown",
      "source": [
        "Example 1:"
      ],
      "metadata": {
        "id": "iIYFwn_opO71"
      }
    },
    {
      "cell_type": "code",
      "source": [
        "a3"
      ],
      "metadata": {
        "id": "otx4HLSHSIjk",
        "colab": {
          "base_uri": "https://localhost:8080/"
        },
        "outputId": "b649fc95-572f-406b-f4e7-b1a7c3391e35"
      },
      "execution_count": null,
      "outputs": [
        {
          "output_type": "execute_result",
          "data": {
            "text/plain": [
              "array([[1, 2, 3],\n",
              "       [4, 5, 6]])"
            ]
          },
          "metadata": {},
          "execution_count": 38
        }
      ]
    },
    {
      "cell_type": "code",
      "source": [
        "np.sum(a3)"
      ],
      "metadata": {
        "colab": {
          "base_uri": "https://localhost:8080/"
        },
        "id": "qOJkd0eo_cAP",
        "outputId": "735365b6-c5f4-4076-ce5c-cc6978b3d579"
      },
      "execution_count": null,
      "outputs": [
        {
          "output_type": "execute_result",
          "data": {
            "text/plain": [
              "21"
            ]
          },
          "metadata": {},
          "execution_count": 39
        }
      ]
    },
    {
      "cell_type": "markdown",
      "source": [
        "Example 2:"
      ],
      "metadata": {
        "id": "3yVM0keopVGF"
      }
    },
    {
      "cell_type": "code",
      "source": [
        "sum1=np.array([1,2,2.2,3,3.3])"
      ],
      "metadata": {
        "id": "Ro5CWMgkAtDV"
      },
      "execution_count": null,
      "outputs": []
    },
    {
      "cell_type": "code",
      "source": [
        "x=np.sum(sum1,dtype=np.int32)"
      ],
      "metadata": {
        "id": "VthFru4PA6IQ"
      },
      "execution_count": null,
      "outputs": []
    },
    {
      "cell_type": "code",
      "source": [
        "x"
      ],
      "metadata": {
        "colab": {
          "base_uri": "https://localhost:8080/"
        },
        "id": "MiiB5W1RA-_Q",
        "outputId": "52764e72-6ddb-4c62-e969-a4ada5515bea"
      },
      "execution_count": null,
      "outputs": [
        {
          "output_type": "execute_result",
          "data": {
            "text/plain": [
              "11"
            ]
          },
          "metadata": {},
          "execution_count": 42
        }
      ]
    },
    {
      "cell_type": "markdown",
      "source": [
        "Here, only integer value will be considered if dtype=int32 is mentioned. Even if the number is float, only the integer part of the float number will be taken into consideration for calculation of the sum."
      ],
      "metadata": {
        "id": "PLcv4YfIBWGz"
      }
    },
    {
      "cell_type": "markdown",
      "source": [
        "Example 3:"
      ],
      "metadata": {
        "id": "XtqW5MFSpX1U"
      }
    },
    {
      "cell_type": "code",
      "source": [
        "a5"
      ],
      "metadata": {
        "colab": {
          "base_uri": "https://localhost:8080/"
        },
        "id": "TPFuVoSSA_2e",
        "outputId": "33895945-b304-4132-e481-ce80067b7d9a"
      },
      "execution_count": null,
      "outputs": [
        {
          "output_type": "execute_result",
          "data": {
            "text/plain": [
              "array([[[21, 31, 41],\n",
              "        [51, 61, 71]],\n",
              "\n",
              "       [[71, 81, 91],\n",
              "        [11, 12, 13]],\n",
              "\n",
              "       [[ 1,  2,  3],\n",
              "        [ 4,  5,  6]]])"
            ]
          },
          "metadata": {},
          "execution_count": 43
        }
      ]
    },
    {
      "cell_type": "code",
      "source": [
        "np.sum(a5)"
      ],
      "metadata": {
        "colab": {
          "base_uri": "https://localhost:8080/"
        },
        "id": "L8-EsLjYBytD",
        "outputId": "f944f5cd-4366-4ec2-f274-f5f8f0868911"
      },
      "execution_count": null,
      "outputs": [
        {
          "output_type": "execute_result",
          "data": {
            "text/plain": [
              "576"
            ]
          },
          "metadata": {},
          "execution_count": 44
        }
      ]
    },
    {
      "cell_type": "markdown",
      "source": [
        "### 5.numpy.dot()"
      ],
      "metadata": {
        "id": "GUUUwacIPxN6"
      }
    },
    {
      "cell_type": "markdown",
      "source": [
        "The Numpy library provides a built-in function to compute the dot product of two vectors."
      ],
      "metadata": {
        "id": "s0M1fdnYP1DL"
      }
    },
    {
      "cell_type": "markdown",
      "source": [
        "This function returns the dot product of 'a' and 'b'. This function returns a scalar if 'a' and 'b' are both scalars or 1-dimensional; otherwise, it returns an array. If 'out' is given, then it is returned."
      ],
      "metadata": {
        "id": "DYb3ZdIOQMxo"
      }
    },
    {
      "cell_type": "markdown",
      "source": [
        "Syntax : "
      ],
      "metadata": {
        "id": "W856HPKTV41A"
      }
    },
    {
      "cell_type": "markdown",
      "source": [
        "variableName=np.dot(array1,array2)"
      ],
      "metadata": {
        "id": "4Vtu91yqV7Py"
      }
    },
    {
      "cell_type": "markdown",
      "source": [
        "Example 1:"
      ],
      "metadata": {
        "id": "q9RHEnd5pgNw"
      }
    },
    {
      "cell_type": "code",
      "source": [
        "kanto=np.array([73,67,43])"
      ],
      "metadata": {
        "id": "yx9S3g0cB2jS"
      },
      "execution_count": null,
      "outputs": []
    },
    {
      "cell_type": "code",
      "source": [
        "w1,w2,w3=0.3,0.2,0.5"
      ],
      "metadata": {
        "id": "XIlS_nIeQqqt"
      },
      "execution_count": null,
      "outputs": []
    },
    {
      "cell_type": "code",
      "source": [
        "weights=np.array([w1,w2,w3])"
      ],
      "metadata": {
        "id": "TZF32MUwQgOU"
      },
      "execution_count": null,
      "outputs": []
    },
    {
      "cell_type": "code",
      "source": [
        "np.dot(kanto,weights)"
      ],
      "metadata": {
        "colab": {
          "base_uri": "https://localhost:8080/"
        },
        "id": "eptdEq0EQkIV",
        "outputId": "fe0d2e20-7861-4ebc-a044-c8577a04d6d0"
      },
      "execution_count": null,
      "outputs": [
        {
          "output_type": "execute_result",
          "data": {
            "text/plain": [
              "56.8"
            ]
          },
          "metadata": {},
          "execution_count": 48
        }
      ]
    },
    {
      "cell_type": "markdown",
      "source": [
        "Example 2:"
      ],
      "metadata": {
        "id": "lJgL5Lcnpkul"
      }
    },
    {
      "cell_type": "code",
      "source": [
        "a_dot=np.dot(7,13)"
      ],
      "metadata": {
        "id": "m6h_IMkyQzu7"
      },
      "execution_count": null,
      "outputs": []
    },
    {
      "cell_type": "code",
      "source": [
        "a_dot"
      ],
      "metadata": {
        "colab": {
          "base_uri": "https://localhost:8080/"
        },
        "id": "eKVU1brkRC2o",
        "outputId": "0df57b89-a9e5-4fdd-e533-14216d838e07"
      },
      "execution_count": null,
      "outputs": [
        {
          "output_type": "execute_result",
          "data": {
            "text/plain": [
              "91"
            ]
          },
          "metadata": {},
          "execution_count": 50
        }
      ]
    },
    {
      "cell_type": "markdown",
      "source": [
        "Example 3:"
      ],
      "metadata": {
        "id": "6ewFc45Fpo95"
      }
    },
    {
      "cell_type": "code",
      "source": [
        "a_dot1=np.dot([2j,3j],[5j,1j])"
      ],
      "metadata": {
        "id": "hnP25igWRDrT"
      },
      "execution_count": null,
      "outputs": []
    },
    {
      "cell_type": "code",
      "source": [
        "a_dot1"
      ],
      "metadata": {
        "colab": {
          "base_uri": "https://localhost:8080/"
        },
        "id": "EkbuQFs1RQui",
        "outputId": "7039a3fd-9711-4d50-9f83-93fe5c26a7ad"
      },
      "execution_count": null,
      "outputs": [
        {
          "output_type": "execute_result",
          "data": {
            "text/plain": [
              "(-13+0j)"
            ]
          },
          "metadata": {},
          "execution_count": 52
        }
      ]
    },
    {
      "cell_type": "markdown",
      "source": [
        "Example 4:"
      ],
      "metadata": {
        "id": "j5yqzckLpsRV"
      }
    },
    {
      "cell_type": "code",
      "source": [
        "a=np.array([[1,2],[4,2]])"
      ],
      "metadata": {
        "id": "41TmoNE6RR5n"
      },
      "execution_count": null,
      "outputs": []
    },
    {
      "cell_type": "code",
      "source": [
        "b=np.array([[3,5],[2,1]])"
      ],
      "metadata": {
        "id": "Ab9kL6tuRV5j"
      },
      "execution_count": null,
      "outputs": []
    },
    {
      "cell_type": "code",
      "source": [
        "c=np.dot(a,b)\n",
        "c"
      ],
      "metadata": {
        "colab": {
          "base_uri": "https://localhost:8080/"
        },
        "id": "vF9lAJe_RW7B",
        "outputId": "fd5d60c6-c6bd-4bef-cb21-e84991b800c5"
      },
      "execution_count": null,
      "outputs": [
        {
          "output_type": "execute_result",
          "data": {
            "text/plain": [
              "array([[ 7,  7],\n",
              "       [16, 22]])"
            ]
          },
          "metadata": {},
          "execution_count": 55
        }
      ]
    },
    {
      "cell_type": "markdown",
      "source": [
        "Here's a comparison of `dot` products performed using Python loops vs. Numpy arrays on two vectors with a million elements each."
      ],
      "metadata": {
        "id": "EJl5EF5XRxWT"
      }
    },
    {
      "cell_type": "code",
      "source": [
        "#Python lists\n",
        "p_arr1=list(range(1000000))\n",
        "p_arr2=list(range(1000000,2000000))\n",
        "\n",
        "#Numpy arrays\n",
        "np_arr1=np.array(p_arr1)\n",
        "np_arr2=np.array(p_arr2)"
      ],
      "metadata": {
        "id": "KqMUZiFbRqnr"
      },
      "execution_count": null,
      "outputs": []
    },
    {
      "cell_type": "code",
      "source": [
        "%%time\n",
        "result=0\n",
        "for x1,x2 in zip(p_arr1,p_arr2):\n",
        "    result += x1*x2\n",
        "result "
      ],
      "metadata": {
        "colab": {
          "base_uri": "https://localhost:8080/"
        },
        "id": "JIghL1kAR3Mv",
        "outputId": "73fe3132-796f-41b7-b1bd-32ed7f2e8520"
      },
      "execution_count": null,
      "outputs": [
        {
          "output_type": "stream",
          "name": "stdout",
          "text": [
            "CPU times: user 166 ms, sys: 15 µs, total: 166 ms\n",
            "Wall time: 171 ms\n"
          ]
        },
        {
          "output_type": "execute_result",
          "data": {
            "text/plain": [
              "833332333333500000"
            ]
          },
          "metadata": {},
          "execution_count": 57
        }
      ]
    },
    {
      "cell_type": "code",
      "source": [
        "%%time\n",
        "np.dot(np_arr1,np_arr2)"
      ],
      "metadata": {
        "colab": {
          "base_uri": "https://localhost:8080/"
        },
        "id": "2dMDuc5pR5Sl",
        "outputId": "4eac60a0-be8c-40a1-cd5a-21aa1efa99d3"
      },
      "execution_count": null,
      "outputs": [
        {
          "output_type": "stream",
          "name": "stdout",
          "text": [
            "CPU times: user 2.16 ms, sys: 0 ns, total: 2.16 ms\n",
            "Wall time: 1.38 ms\n"
          ]
        },
        {
          "output_type": "execute_result",
          "data": {
            "text/plain": [
              "833332333333500000"
            ]
          },
          "metadata": {},
          "execution_count": 58
        }
      ]
    },
    {
      "cell_type": "markdown",
      "source": [
        "%%time - used to calculate the time taken to run the program"
      ],
      "metadata": {
        "id": "Qry334XoSjn5"
      }
    },
    {
      "cell_type": "markdown",
      "source": [
        "As you can see, using np.dot is 100 times faster than using a for loop. This makes Numpy especially useful while working with really large datasets with tens of thousands or millions of data points."
      ],
      "metadata": {
        "id": "jVzbQ7KzSmPf"
      }
    },
    {
      "cell_type": "markdown",
      "source": [
        "Example 5:"
      ],
      "metadata": {
        "id": "kqbZi7popxVR"
      }
    },
    {
      "cell_type": "code",
      "source": [
        "a1"
      ],
      "metadata": {
        "colab": {
          "base_uri": "https://localhost:8080/"
        },
        "id": "mhwhAG-OR77V",
        "outputId": "d3064329-b148-492a-ee8a-c84f84e61178"
      },
      "execution_count": null,
      "outputs": [
        {
          "output_type": "execute_result",
          "data": {
            "text/plain": [
              "array([12, 13, 14])"
            ]
          },
          "metadata": {},
          "execution_count": 59
        }
      ]
    },
    {
      "cell_type": "code",
      "source": [
        "a3"
      ],
      "metadata": {
        "colab": {
          "base_uri": "https://localhost:8080/"
        },
        "id": "ViEdcgZ5SvMX",
        "outputId": "d2974419-2a4f-4fd0-f9eb-80605602289b"
      },
      "execution_count": null,
      "outputs": [
        {
          "output_type": "execute_result",
          "data": {
            "text/plain": [
              "array([[1, 2, 3],\n",
              "       [4, 5, 6]])"
            ]
          },
          "metadata": {},
          "execution_count": 60
        }
      ]
    },
    {
      "cell_type": "code",
      "source": [
        "np.dot(a1,a3)"
      ],
      "metadata": {
        "colab": {
          "base_uri": "https://localhost:8080/",
          "height": 200
        },
        "id": "T4uzdWlTSv8X",
        "outputId": "7e0ce701-7f5d-44c8-ef26-aae31fa0751d"
      },
      "execution_count": null,
      "outputs": [
        {
          "output_type": "error",
          "ename": "ValueError",
          "evalue": "ignored",
          "traceback": [
            "\u001b[0;31m---------------------------------------------------------------------------\u001b[0m",
            "\u001b[0;31mValueError\u001b[0m                                Traceback (most recent call last)",
            "\u001b[0;32m<ipython-input-61-990bd02524bb>\u001b[0m in \u001b[0;36m<module>\u001b[0;34m\u001b[0m\n\u001b[0;32m----> 1\u001b[0;31m \u001b[0mnp\u001b[0m\u001b[0;34m.\u001b[0m\u001b[0mdot\u001b[0m\u001b[0;34m(\u001b[0m\u001b[0ma1\u001b[0m\u001b[0;34m,\u001b[0m\u001b[0ma3\u001b[0m\u001b[0;34m)\u001b[0m\u001b[0;34m\u001b[0m\u001b[0;34m\u001b[0m\u001b[0m\n\u001b[0m",
            "\u001b[0;32m<__array_function__ internals>\u001b[0m in \u001b[0;36mdot\u001b[0;34m(*args, **kwargs)\u001b[0m\n",
            "\u001b[0;31mValueError\u001b[0m: shapes (3,) and (2,3) not aligned: 3 (dim 0) != 2 (dim 0)"
          ]
        }
      ]
    },
    {
      "cell_type": "markdown",
      "source": [
        "The above code does not execute as the dimension and shape of array-a3 and array-a1 are different, a3 is 2 dimensional array with shape (2,3) while a1 is 1 dimensional array with shape (3,). So, arrays of different dimensions and shapes cannot be considered to compute their dot product."
      ],
      "metadata": {
        "id": "qNCB853RS55x"
      }
    },
    {
      "cell_type": "markdown",
      "source": [
        "### 6. numpy.mean()"
      ],
      "metadata": {
        "id": "wtNH18LIVnaf"
      }
    },
    {
      "cell_type": "markdown",
      "source": [
        "The numpy.mean() function is used to compute the arithmetic mean along the specified axis.\n",
        "\n",
        "This function returns the average of the array elements. By default, the average is taken on the flattened array. Else on the specified axis, float 64 is intermediate as well as return values are used for integer inputs"
      ],
      "metadata": {
        "id": "r4fdgIMAVurI"
      }
    },
    {
      "cell_type": "markdown",
      "source": [
        "Syntax:"
      ],
      "metadata": {
        "id": "sdOTcJ8NWDO4"
      }
    },
    {
      "cell_type": "markdown",
      "source": [
        "np.mean(parameters)"
      ],
      "metadata": {
        "id": "bJMhlk18WF9r"
      }
    },
    {
      "cell_type": "markdown",
      "source": [
        "Example 1:"
      ],
      "metadata": {
        "id": "lN8x87Wtp5hm"
      }
    },
    {
      "cell_type": "code",
      "source": [
        "a_mean=np.array([[1,2],[4,2]])"
      ],
      "metadata": {
        "id": "YXouhiG_WEWY"
      },
      "execution_count": null,
      "outputs": []
    },
    {
      "cell_type": "code",
      "source": [
        "b_mean=np.mean(a_mean)\n",
        "b_mean"
      ],
      "metadata": {
        "colab": {
          "base_uri": "https://localhost:8080/"
        },
        "id": "aQS7qy1-WOO7",
        "outputId": "a6ff0fe8-201d-433a-dd6e-20800f56a705"
      },
      "execution_count": null,
      "outputs": [
        {
          "output_type": "execute_result",
          "data": {
            "text/plain": [
              "2.25"
            ]
          },
          "metadata": {},
          "execution_count": 63
        }
      ]
    },
    {
      "cell_type": "markdown",
      "source": [
        "Example 2:"
      ],
      "metadata": {
        "id": "XqcEbY9kqAtw"
      }
    },
    {
      "cell_type": "code",
      "source": [
        "x_mean=np.array([[5,6],[7,8]])"
      ],
      "metadata": {
        "id": "bEiKv7uQWXCH"
      },
      "execution_count": null,
      "outputs": []
    },
    {
      "cell_type": "code",
      "source": [
        "y_mean=np.mean(x_mean)\n",
        "y_mean"
      ],
      "metadata": {
        "colab": {
          "base_uri": "https://localhost:8080/"
        },
        "id": "B3kLUX6RWphI",
        "outputId": "652a2363-bd98-43c9-e31a-e29d94e441a5"
      },
      "execution_count": null,
      "outputs": [
        {
          "output_type": "execute_result",
          "data": {
            "text/plain": [
              "6.5"
            ]
          },
          "metadata": {},
          "execution_count": 65
        }
      ]
    },
    {
      "cell_type": "markdown",
      "source": [
        "Example 3:"
      ],
      "metadata": {
        "id": "RkG2SqdsqFIa"
      }
    },
    {
      "cell_type": "code",
      "source": [
        "a_mean"
      ],
      "metadata": {
        "colab": {
          "base_uri": "https://localhost:8080/"
        },
        "id": "KUQDhmpWWuII",
        "outputId": "67d09822-468c-4ee3-db34-d6fc4fd37051"
      },
      "execution_count": null,
      "outputs": [
        {
          "output_type": "execute_result",
          "data": {
            "text/plain": [
              "array([[1, 2],\n",
              "       [4, 2]])"
            ]
          },
          "metadata": {},
          "execution_count": 66
        }
      ]
    },
    {
      "cell_type": "code",
      "source": [
        "b_mean2=np.mean(a_mean,axis=0)\n",
        "b_mean2"
      ],
      "metadata": {
        "colab": {
          "base_uri": "https://localhost:8080/"
        },
        "id": "IHMSz57NW0bW",
        "outputId": "b51f6f3a-7de9-4c7d-d8fa-f89accacf7b1"
      },
      "execution_count": null,
      "outputs": [
        {
          "output_type": "execute_result",
          "data": {
            "text/plain": [
              "array([2.5, 2. ])"
            ]
          },
          "metadata": {},
          "execution_count": 67
        }
      ]
    },
    {
      "cell_type": "code",
      "source": [
        "c_mean=np.mean(a_mean,axis=1)\n",
        "c_mean"
      ],
      "metadata": {
        "colab": {
          "base_uri": "https://localhost:8080/"
        },
        "id": "k33LC7FdW7mj",
        "outputId": "10dcb0b7-c063-4d07-a705-45a2279170a5"
      },
      "execution_count": null,
      "outputs": [
        {
          "output_type": "execute_result",
          "data": {
            "text/plain": [
              "array([1.5, 3. ])"
            ]
          },
          "metadata": {},
          "execution_count": 68
        }
      ]
    },
    {
      "cell_type": "markdown",
      "source": [
        "Example 4 : Adding two arrays and finding the mean of the sum of the arrays"
      ],
      "metadata": {
        "id": "OpZvk5ZCqJGk"
      }
    },
    {
      "cell_type": "code",
      "source": [
        "a_mean"
      ],
      "metadata": {
        "id": "LQn6sPtLXFmi",
        "colab": {
          "base_uri": "https://localhost:8080/"
        },
        "outputId": "c2cf3816-47e1-48df-d5cc-81e4ad156f9d"
      },
      "execution_count": null,
      "outputs": [
        {
          "output_type": "execute_result",
          "data": {
            "text/plain": [
              "array([[1, 2],\n",
              "       [4, 2]])"
            ]
          },
          "metadata": {},
          "execution_count": 69
        }
      ]
    },
    {
      "cell_type": "code",
      "source": [
        "x_mean"
      ],
      "metadata": {
        "colab": {
          "base_uri": "https://localhost:8080/"
        },
        "id": "BEbLd8DpTQZW",
        "outputId": "d5e79308-ca10-405e-c803-92c3fa71e1dd"
      },
      "execution_count": null,
      "outputs": [
        {
          "output_type": "execute_result",
          "data": {
            "text/plain": [
              "array([[5, 6],\n",
              "       [7, 8]])"
            ]
          },
          "metadata": {},
          "execution_count": 70
        }
      ]
    },
    {
      "cell_type": "code",
      "source": [
        "sum=a_mean + x_mean\n",
        "sum"
      ],
      "metadata": {
        "colab": {
          "base_uri": "https://localhost:8080/"
        },
        "id": "PMxIa3dETSkU",
        "outputId": "08fc0842-1d2d-4bac-9663-667024c032de"
      },
      "execution_count": null,
      "outputs": [
        {
          "output_type": "execute_result",
          "data": {
            "text/plain": [
              "array([[ 6,  8],\n",
              "       [11, 10]])"
            ]
          },
          "metadata": {},
          "execution_count": 73
        }
      ]
    },
    {
      "cell_type": "code",
      "source": [
        "np.mean(sum)"
      ],
      "metadata": {
        "colab": {
          "base_uri": "https://localhost:8080/"
        },
        "id": "4mZSg6j8TXjb",
        "outputId": "6f0ee8dd-d806-48db-da90-c8656f6ada4d"
      },
      "execution_count": null,
      "outputs": [
        {
          "output_type": "execute_result",
          "data": {
            "text/plain": [
              "8.75"
            ]
          },
          "metadata": {},
          "execution_count": 74
        }
      ]
    },
    {
      "cell_type": "markdown",
      "source": [
        "### 7. numpy.sort()"
      ],
      "metadata": {
        "id": "ZZJJiLkKUkI0"
      }
    },
    {
      "cell_type": "markdown",
      "source": [
        "The numpy.sort() function is available in the NumPy package of Python. This function is used to sort the elements in the array in ascending order. This function returns a sorted copy of the source array, which will have the same shape and type as a source array."
      ],
      "metadata": {
        "id": "hy0IOcSDUs2S"
      }
    },
    {
      "cell_type": "markdown",
      "source": [
        "Syntax : "
      ],
      "metadata": {
        "id": "RDLdxwzMcsIH"
      }
    },
    {
      "cell_type": "markdown",
      "source": [
        "numpy.sort(arrayName,axis,order)"
      ],
      "metadata": {
        "id": "LmrwtWAecuDf"
      }
    },
    {
      "cell_type": "markdown",
      "source": [
        "Example 1:"
      ],
      "metadata": {
        "id": "jrSKYDFsqU2V"
      }
    },
    {
      "cell_type": "code",
      "source": [
        "x_sort=np.array([[ 1,  4,  2,  3],\n",
        "       \t[ 9, 13, 61,  1],\n",
        "       \t[43, 24, 88, 22]])\n",
        "x_sort"
      ],
      "metadata": {
        "colab": {
          "base_uri": "https://localhost:8080/"
        },
        "id": "1lUAx5Fgc2Hr",
        "outputId": "5ab710da-284e-4e6d-cb9a-992231b726dc"
      },
      "execution_count": null,
      "outputs": [
        {
          "output_type": "execute_result",
          "data": {
            "text/plain": [
              "array([[ 1,  4,  2,  3],\n",
              "       [ 9, 13, 61,  1],\n",
              "       [43, 24, 88, 22]])"
            ]
          },
          "metadata": {},
          "execution_count": 75
        }
      ]
    },
    {
      "cell_type": "code",
      "source": [
        "np.sort(x_sort)"
      ],
      "metadata": {
        "colab": {
          "base_uri": "https://localhost:8080/"
        },
        "id": "k_CeyohKc_zW",
        "outputId": "fa67fc0f-2ec0-4641-87fb-e3fc12830050"
      },
      "execution_count": null,
      "outputs": [
        {
          "output_type": "execute_result",
          "data": {
            "text/plain": [
              "array([[ 1,  2,  3,  4],\n",
              "       [ 1,  9, 13, 61],\n",
              "       [22, 24, 43, 88]])"
            ]
          },
          "metadata": {},
          "execution_count": 76
        }
      ]
    },
    {
      "cell_type": "code",
      "source": [
        "np.sort(x_sort,axis=0)"
      ],
      "metadata": {
        "colab": {
          "base_uri": "https://localhost:8080/"
        },
        "id": "S8-pkhaXdGYJ",
        "outputId": "924c3750-dbfc-4c8f-c044-7f8db1d0fc35"
      },
      "execution_count": null,
      "outputs": [
        {
          "output_type": "execute_result",
          "data": {
            "text/plain": [
              "array([[ 1,  4,  2,  1],\n",
              "       [ 9, 13, 61,  3],\n",
              "       [43, 24, 88, 22]])"
            ]
          },
          "metadata": {},
          "execution_count": 77
        }
      ]
    },
    {
      "cell_type": "code",
      "source": [
        "np.sort(x_sort,axis=None)"
      ],
      "metadata": {
        "colab": {
          "base_uri": "https://localhost:8080/"
        },
        "id": "qqLIkdM8dNzr",
        "outputId": "7b5e675d-a577-4b80-b639-58e943ef6b10"
      },
      "execution_count": null,
      "outputs": [
        {
          "output_type": "execute_result",
          "data": {
            "text/plain": [
              "array([ 1,  1,  2,  3,  4,  9, 13, 22, 24, 43, 61, 88])"
            ]
          },
          "metadata": {},
          "execution_count": 79
        }
      ]
    },
    {
      "cell_type": "markdown",
      "source": [
        "Example 2:"
      ],
      "metadata": {
        "id": "zME_fJLhqZUi"
      }
    },
    {
      "cell_type": "code",
      "source": [
        "x_sort"
      ],
      "metadata": {
        "colab": {
          "base_uri": "https://localhost:8080/"
        },
        "id": "Ap0BvpCpdQOX",
        "outputId": "b5c27847-95ae-42fa-e5ff-21989d67ae61"
      },
      "execution_count": null,
      "outputs": [
        {
          "output_type": "execute_result",
          "data": {
            "text/plain": [
              "array([[ 1,  4,  2,  3],\n",
              "       [ 9, 13, 61,  1],\n",
              "       [43, 24, 88, 22]])"
            ]
          },
          "metadata": {},
          "execution_count": 80
        }
      ]
    },
    {
      "cell_type": "code",
      "source": [
        "y_sort=([[ 10,  4,  12,  33],\n",
        "       [ 29, 23, 1,  11],\n",
        "       [93, 64, 58, 32]])\n",
        "y_sort"
      ],
      "metadata": {
        "colab": {
          "base_uri": "https://localhost:8080/"
        },
        "id": "J3m0aUwKeVs7",
        "outputId": "1e65e4a6-8375-4695-9d99-7550f6c41fbe"
      },
      "execution_count": null,
      "outputs": [
        {
          "output_type": "execute_result",
          "data": {
            "text/plain": [
              "[[10, 4, 12, 33], [29, 23, 1, 11], [93, 64, 58, 32]]"
            ]
          },
          "metadata": {},
          "execution_count": 82
        }
      ]
    },
    {
      "cell_type": "code",
      "source": [
        "sort_xy=x_sort + y_sort\n",
        "sort_xy"
      ],
      "metadata": {
        "colab": {
          "base_uri": "https://localhost:8080/"
        },
        "id": "F9vtOWRYemZU",
        "outputId": "14ec5080-16e3-44c7-965e-67b251108145"
      },
      "execution_count": null,
      "outputs": [
        {
          "output_type": "execute_result",
          "data": {
            "text/plain": [
              "array([[ 11,   8,  14,  36],\n",
              "       [ 38,  36,  62,  12],\n",
              "       [136,  88, 146,  54]])"
            ]
          },
          "metadata": {},
          "execution_count": 84
        }
      ]
    },
    {
      "cell_type": "code",
      "source": [
        "np.sort(sort_xy)"
      ],
      "metadata": {
        "colab": {
          "base_uri": "https://localhost:8080/"
        },
        "id": "qklR0SQNetJd",
        "outputId": "e3f28375-e9ad-41e2-ce93-bc1574a46057"
      },
      "execution_count": null,
      "outputs": [
        {
          "output_type": "execute_result",
          "data": {
            "text/plain": [
              "array([[  8,  11,  14,  36],\n",
              "       [ 12,  36,  38,  62],\n",
              "       [ 54,  88, 136, 146]])"
            ]
          },
          "metadata": {},
          "execution_count": 85
        }
      ]
    },
    {
      "cell_type": "markdown",
      "source": [
        "### 8. numpy.linspace()"
      ],
      "metadata": {
        "id": "dj5ubHH6e5wR"
      }
    },
    {
      "cell_type": "markdown",
      "source": [
        "The numpy.linspace() function is available in the NumPy package of Python. It returns evenly separated values over a specified period."
      ],
      "metadata": {
        "id": "shw86ioSfNxX"
      }
    },
    {
      "cell_type": "markdown",
      "source": [
        "Syntax : "
      ],
      "metadata": {
        "id": "LZjEN0tPgKXv"
      }
    },
    {
      "cell_type": "markdown",
      "source": [
        "numpy.linspace(start, stop, num, endpoint)   "
      ],
      "metadata": {
        "id": "6_0EeVPMgMnG"
      }
    },
    {
      "cell_type": "markdown",
      "source": [
        "Example 1:"
      ],
      "metadata": {
        "id": "Ibsc9nITqcg-"
      }
    },
    {
      "cell_type": "code",
      "source": [
        "np.linspace(3,27,9)"
      ],
      "metadata": {
        "colab": {
          "base_uri": "https://localhost:8080/"
        },
        "id": "UBFzg1FSgTtT",
        "outputId": "6b9c646f-ec48-4537-f839-5599ac536cb7"
      },
      "execution_count": null,
      "outputs": [
        {
          "output_type": "execute_result",
          "data": {
            "text/plain": [
              "array([ 3.,  6.,  9., 12., 15., 18., 21., 24., 27.])"
            ]
          },
          "metadata": {},
          "execution_count": 86
        }
      ]
    },
    {
      "cell_type": "markdown",
      "source": [
        "Example 2:"
      ],
      "metadata": {
        "id": "jNdbFLtrqeXu"
      }
    },
    {
      "cell_type": "code",
      "source": [
        "np.linspace(5,100,10)"
      ],
      "metadata": {
        "colab": {
          "base_uri": "https://localhost:8080/"
        },
        "id": "adyd2IlbgcqQ",
        "outputId": "cff9eae8-ca7d-473e-bc5c-be5a60f50d91"
      },
      "execution_count": null,
      "outputs": [
        {
          "output_type": "execute_result",
          "data": {
            "text/plain": [
              "array([  5.        ,  15.55555556,  26.11111111,  36.66666667,\n",
              "        47.22222222,  57.77777778,  68.33333333,  78.88888889,\n",
              "        89.44444444, 100.        ])"
            ]
          },
          "metadata": {},
          "execution_count": 87
        }
      ]
    },
    {
      "cell_type": "markdown",
      "source": [
        "Example 3:"
      ],
      "metadata": {
        "id": "wBePlxktqhT9"
      }
    },
    {
      "cell_type": "code",
      "source": [
        "np.linspace(10, 20, 5, endpoint = False)  "
      ],
      "metadata": {
        "colab": {
          "base_uri": "https://localhost:8080/"
        },
        "id": "oDPnGG5sggaI",
        "outputId": "becc04cc-bcca-4bde-893b-a48b3aac5897"
      },
      "execution_count": null,
      "outputs": [
        {
          "output_type": "execute_result",
          "data": {
            "text/plain": [
              "array([10., 12., 14., 16., 18.])"
            ]
          },
          "metadata": {},
          "execution_count": 88
        }
      ]
    },
    {
      "cell_type": "markdown",
      "source": [
        "### 8. numpy.unique()"
      ],
      "metadata": {
        "id": "9ff9uV7xg7OK"
      }
    },
    {
      "cell_type": "markdown",
      "source": [
        "The numpy module of Python provides a function for finding unique elements in a numpy array. The numpy.unique() function finds the unique elements of an array and returns these unique elements as a sorted array."
      ],
      "metadata": {
        "id": "XOXZSYjDhgPR"
      }
    },
    {
      "cell_type": "markdown",
      "source": [
        "Example 1:"
      ],
      "metadata": {
        "id": "gu1W3JNhqjyB"
      }
    },
    {
      "cell_type": "code",
      "source": [
        "a=np.unique([1,20,3,5,3,6,20,5])  \n",
        "a"
      ],
      "metadata": {
        "colab": {
          "base_uri": "https://localhost:8080/"
        },
        "id": "xZD8bMQEgqyJ",
        "outputId": "1baf5f6f-500f-4401-e3ea-db4510da686b"
      },
      "execution_count": null,
      "outputs": [
        {
          "output_type": "execute_result",
          "data": {
            "text/plain": [
              "array([ 1,  3,  5,  6, 20])"
            ]
          },
          "metadata": {},
          "execution_count": 90
        }
      ]
    },
    {
      "cell_type": "markdown",
      "source": [
        "Example 2:"
      ],
      "metadata": {
        "id": "uAQRByZIql9m"
      }
    },
    {
      "cell_type": "code",
      "source": [
        "x_unique=np.array([[ 1,  4,  2,  3],\n",
        "       [ 9, 3, 6,  1],\n",
        "       [3, 4, 6, 2]])\n",
        "x_unique"
      ],
      "metadata": {
        "colab": {
          "base_uri": "https://localhost:8080/"
        },
        "id": "kA6a3FJ-hp44",
        "outputId": "ace39662-cfd3-48ce-adcb-903686ddcf2f"
      },
      "execution_count": null,
      "outputs": [
        {
          "output_type": "execute_result",
          "data": {
            "text/plain": [
              "array([[1, 4, 2, 3],\n",
              "       [9, 3, 6, 1],\n",
              "       [3, 4, 6, 2]])"
            ]
          },
          "metadata": {},
          "execution_count": 93
        }
      ]
    },
    {
      "cell_type": "code",
      "source": [
        "np.unique(x_unique)"
      ],
      "metadata": {
        "colab": {
          "base_uri": "https://localhost:8080/"
        },
        "id": "514hHQ99h94t",
        "outputId": "01bafdb0-950d-48ba-f871-ced2963927c1"
      },
      "execution_count": null,
      "outputs": [
        {
          "output_type": "execute_result",
          "data": {
            "text/plain": [
              "array([1, 2, 3, 4, 6, 9])"
            ]
          },
          "metadata": {},
          "execution_count": 97
        }
      ]
    },
    {
      "cell_type": "markdown",
      "source": [
        "### 9. numpy.arrage()"
      ],
      "metadata": {
        "id": "7RHeLSfji1X3"
      }
    },
    {
      "cell_type": "markdown",
      "source": [
        "The numpy.arrange() function is available in the NumPy package of Python.\n",
        "It creates an array by using the evenly spaced values over the given interval."
      ],
      "metadata": {
        "id": "H113KyO2i6UZ"
      }
    },
    {
      "cell_type": "markdown",
      "source": [
        "Syntax : "
      ],
      "metadata": {
        "id": "vcIlzEltjoRD"
      }
    },
    {
      "cell_type": "markdown",
      "source": [
        "numpy.arrange(start, stop, step, dtype)  "
      ],
      "metadata": {
        "id": "Jk9XolZpjqRQ"
      }
    },
    {
      "cell_type": "markdown",
      "source": [
        "Example 1:"
      ],
      "metadata": {
        "id": "idlZHbEsqo9C"
      }
    },
    {
      "cell_type": "code",
      "source": [
        "a_arrange=np.arange(10,90,3)\n",
        "a_arrange"
      ],
      "metadata": {
        "colab": {
          "base_uri": "https://localhost:8080/"
        },
        "id": "yigWPdzjiE-3",
        "outputId": "cc207bb1-f7a3-4e20-bd5f-327ab7d2db56"
      },
      "execution_count": null,
      "outputs": [
        {
          "output_type": "execute_result",
          "data": {
            "text/plain": [
              "array([10, 13, 16, 19, 22, 25, 28, 31, 34, 37, 40, 43, 46, 49, 52, 55, 58,\n",
              "       61, 64, 67, 70, 73, 76, 79, 82, 85, 88])"
            ]
          },
          "metadata": {},
          "execution_count": 98
        }
      ]
    },
    {
      "cell_type": "code",
      "source": [
        "a_arrange.shape"
      ],
      "metadata": {
        "colab": {
          "base_uri": "https://localhost:8080/"
        },
        "id": "HjTWJQoSiMZF",
        "outputId": "e0d0e3d0-d5e6-4b21-a391-69ce13b67c37"
      },
      "execution_count": null,
      "outputs": [
        {
          "output_type": "execute_result",
          "data": {
            "text/plain": [
              "(27,)"
            ]
          },
          "metadata": {},
          "execution_count": 99
        }
      ]
    },
    {
      "cell_type": "code",
      "source": [
        "a_arrange.reshape(3,3,3)"
      ],
      "metadata": {
        "colab": {
          "base_uri": "https://localhost:8080/"
        },
        "id": "FEFOyU3Ij4ut",
        "outputId": "ea6a0126-ad91-47e3-dd6a-8b81ca592783"
      },
      "execution_count": null,
      "outputs": [
        {
          "output_type": "execute_result",
          "data": {
            "text/plain": [
              "array([[[10, 13, 16],\n",
              "        [19, 22, 25],\n",
              "        [28, 31, 34]],\n",
              "\n",
              "       [[37, 40, 43],\n",
              "        [46, 49, 52],\n",
              "        [55, 58, 61]],\n",
              "\n",
              "       [[64, 67, 70],\n",
              "        [73, 76, 79],\n",
              "        [82, 85, 88]]])"
            ]
          },
          "metadata": {},
          "execution_count": 100
        }
      ]
    },
    {
      "cell_type": "markdown",
      "source": [
        "Example 2:"
      ],
      "metadata": {
        "id": "BefsXjohquvf"
      }
    },
    {
      "cell_type": "code",
      "source": [
        "arr=np.arange(0,10,2,float)\n",
        "arr"
      ],
      "metadata": {
        "colab": {
          "base_uri": "https://localhost:8080/"
        },
        "id": "79foz6Zdj99f",
        "outputId": "d9c8be5d-f35d-407c-bc79-27bbfd719414"
      },
      "execution_count": null,
      "outputs": [
        {
          "output_type": "execute_result",
          "data": {
            "text/plain": [
              "array([0., 2., 4., 6., 8.])"
            ]
          },
          "metadata": {},
          "execution_count": 103
        }
      ]
    },
    {
      "cell_type": "markdown",
      "source": [
        "Here, in the output we get elements in floating data type and not in integer as we have mentioned the dtype to be float"
      ],
      "metadata": {
        "id": "mOuIScuhkO3Q"
      }
    },
    {
      "cell_type": "markdown",
      "source": [
        "### 10. numpy.asarray()"
      ],
      "metadata": {
        "id": "49lZR8FtmEiy"
      }
    },
    {
      "cell_type": "markdown",
      "source": [
        "This function is used to create an array by using the existing data in the form of lists, or tuples. This function is useful in the scenario where we need to convert a python sequence into the numpy array object."
      ],
      "metadata": {
        "id": "Ux2Z0Jp-mU91"
      }
    },
    {
      "cell_type": "markdown",
      "source": [
        "Example 1:"
      ],
      "metadata": {
        "id": "pJcZZ-jEqxeP"
      }
    },
    {
      "cell_type": "code",
      "source": [
        "k=[[ 1,  4,  2,  3],\n",
        "       \t[ 9, 13, 61,  1],\n",
        "       \t[43, 24, 88, 22]]\n",
        "k"
      ],
      "metadata": {
        "colab": {
          "base_uri": "https://localhost:8080/"
        },
        "outputId": "3a73fd3f-9e68-4527-d7c6-5b1b2a7f6bff",
        "id": "SOithOklmgxT"
      },
      "execution_count": null,
      "outputs": [
        {
          "output_type": "execute_result",
          "data": {
            "text/plain": [
              "[[1, 4, 2, 3], [9, 13, 61, 1], [43, 24, 88, 22]]"
            ]
          },
          "metadata": {},
          "execution_count": 104
        }
      ]
    },
    {
      "cell_type": "code",
      "source": [
        "type(k)"
      ],
      "metadata": {
        "colab": {
          "base_uri": "https://localhost:8080/"
        },
        "id": "wlKuW_V9mqS6",
        "outputId": "6139015c-ad16-4d75-d94d-5dac0db259aa"
      },
      "execution_count": null,
      "outputs": [
        {
          "output_type": "execute_result",
          "data": {
            "text/plain": [
              "list"
            ]
          },
          "metadata": {},
          "execution_count": 105
        }
      ]
    },
    {
      "cell_type": "code",
      "source": [
        "k=np.asarray(k)"
      ],
      "metadata": {
        "id": "Hl5wUAu6msLq"
      },
      "execution_count": null,
      "outputs": []
    },
    {
      "cell_type": "code",
      "source": [
        "k"
      ],
      "metadata": {
        "colab": {
          "base_uri": "https://localhost:8080/"
        },
        "id": "lIegagCVmwRQ",
        "outputId": "0ec61164-9b00-4bbd-f7f7-3b056356307a"
      },
      "execution_count": null,
      "outputs": [
        {
          "output_type": "execute_result",
          "data": {
            "text/plain": [
              "array([[ 1,  4,  2,  3],\n",
              "       [ 9, 13, 61,  1],\n",
              "       [43, 24, 88, 22]])"
            ]
          },
          "metadata": {},
          "execution_count": 108
        }
      ]
    },
    {
      "cell_type": "code",
      "source": [
        "type(k)"
      ],
      "metadata": {
        "colab": {
          "base_uri": "https://localhost:8080/"
        },
        "id": "apTlTVKqm3Xk",
        "outputId": "80ca46d9-79b8-4331-9740-fef5203515d4"
      },
      "execution_count": null,
      "outputs": [
        {
          "output_type": "execute_result",
          "data": {
            "text/plain": [
              "numpy.ndarray"
            ]
          },
          "metadata": {},
          "execution_count": 109
        }
      ]
    },
    {
      "cell_type": "code",
      "source": [],
      "metadata": {
        "id": "gkE0ZWC9m4mf"
      },
      "execution_count": null,
      "outputs": []
    }
  ]
}